import pandas as pd

def second_highest_salary(employee: pd.DataFrame) -> pd.DataFrame:
    unique=employee['salary'].drop_duplicates()
    sec=unique.nlargest(2).iloc[-1] if len(unique)>=2 else None
    if sec is None:
        return pd.DataFrame({"SecondHighestSalary":[None]})
    return pd.DataFrame({"SecondHighestSalary":[sec]})
